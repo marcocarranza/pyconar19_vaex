{
 "cells": [
  {
   "cell_type": "markdown",
   "metadata": {
    "slideshow": {
     "slide_type": "slide"
    }
   },
   "source": [
    "# Procesing big data with Vaex, dataframes and no clusters\n",
    "### Marco Carranza\n",
    "### @mcrrnz"
   ]
  },
  {
   "cell_type": "code",
   "execution_count": 1,
   "metadata": {},
   "outputs": [],
   "source": [
    "# Instalación inicial\n",
    "# pip install jupyter\n",
    "# pip install vaex \n",
    "# pip install vaex-core vaex-viz vaex-jupyter vaex-arrow vaex-server vaex-ui vaex-hdf5 vaex-astro vaex-distributed\n"
   ]
  },
  {
   "cell_type": "code",
   "execution_count": 1,
   "metadata": {
    "ExecuteTime": {
     "end_time": "2019-12-06T13:35:43.501256Z",
     "start_time": "2019-12-06T13:35:40.778511Z"
    }
   },
   "outputs": [],
   "source": [
    "import vaex"
   ]
  },
  {
   "cell_type": "markdown",
   "metadata": {},
   "source": [
    "### Vaex incorpora un pequeño dataframe de pruebas"
   ]
  },
  {
   "cell_type": "code",
   "execution_count": 2,
   "metadata": {
    "ExecuteTime": {
     "end_time": "2019-12-06T13:35:43.971026Z",
     "start_time": "2019-12-06T13:35:43.910934Z"
    }
   },
   "outputs": [],
   "source": [
    "demo1 = vaex.example()"
   ]
  },
  {
   "cell_type": "code",
   "execution_count": 4,
   "metadata": {
    "ExecuteTime": {
     "end_time": "2019-12-06T13:35:54.821193Z",
     "start_time": "2019-12-06T13:35:54.762797Z"
    }
   },
   "outputs": [
    {
     "data": {
      "text/html": [
       "<table>\n",
       "<thead>\n",
       "<tr><th>#                                  </th><th>E              </th><th>FeH                </th><th>L                 </th><th>Lz                 </th><th>random_index  </th><th>vx         </th><th>vy         </th><th>vz         </th><th>x           </th><th>y           </th><th>z           </th></tr>\n",
       "</thead>\n",
       "<tbody>\n",
       "<tr><td><i style='opacity: 0.6'>0</i>      </td><td>-121238.171875 </td><td>-2.309227609164518 </td><td>831.0799560546875 </td><td>-336.426513671875  </td><td>1511648       </td><td>53.276722  </td><td>288.386047 </td><td>-95.2649078</td><td>-0.777470767</td><td>2.10626292  </td><td>1.93743467  </td></tr>\n",
       "<tr><td><i style='opacity: 0.6'>1</i>      </td><td>-100819.9140625</td><td>-1.788735491591229 </td><td>1435.1839599609375</td><td>-828.7567749023438 </td><td>2728665       </td><td>252.810791 </td><td>-69.9498444</td><td>-56.3121033</td><td>3.77427316  </td><td>2.23387194  </td><td>3.76209331  </td></tr>\n",
       "<tr><td><i style='opacity: 0.6'>2</i>      </td><td>-100559.9609375</td><td>-0.7618109022478798</td><td>1039.2989501953125</td><td>920.802490234375   </td><td>1202632       </td><td>96.276474  </td><td>226.440201 </td><td>-34.7527161</td><td>1.3757627   </td><td>-6.3283844  </td><td>2.63250017  </td></tr>\n",
       "<tr><td><i style='opacity: 0.6'>3</i>      </td><td>-70174.8515625 </td><td>-1.5208778422936413</td><td>2441.724853515625 </td><td>1183.5899658203125 </td><td>1020502       </td><td>204.968842 </td><td>-205.679016</td><td>-58.9777031</td><td>-7.06737804 </td><td>1.31737781  </td><td>-6.10543537 </td></tr>\n",
       "<tr><td><i style='opacity: 0.6'>4</i>      </td><td>-144138.75     </td><td>-2.655341358427361 </td><td>374.8164367675781 </td><td>-314.5353088378906 </td><td>3154816       </td><td>-311.742371</td><td>-238.41217 </td><td>186.824127 </td><td>0.243441463 </td><td>-0.822781682</td><td>-0.206593871</td></tr>\n",
       "<tr><td>...                                </td><td>...            </td><td>...                </td><td>...               </td><td>...                </td><td>...           </td><td>...        </td><td>...        </td><td>...        </td><td>...         </td><td>...         </td><td>...         </td></tr>\n",
       "<tr><td><i style='opacity: 0.6'>329,995</i></td><td>-119687.3203125</td><td>-1.6499842518381402</td><td>746.8833618164062 </td><td>-508.96484375      </td><td>1919483       </td><td>107.432999 </td><td>-2.13771296</td><td>17.5130272 </td><td>3.76883793  </td><td>4.66251659  </td><td>-4.42904139 </td></tr>\n",
       "<tr><td><i style='opacity: 0.6'>329,996</i></td><td>-68933.8046875 </td><td>-1.4336036247720836</td><td>2395.633056640625 </td><td>1275.490234375     </td><td>1064141       </td><td>32.0       </td><td>108.089264 </td><td>179.060638 </td><td>9.17409325  </td><td>-8.87091351 </td><td>-8.61707687 </td></tr>\n",
       "<tr><td><i style='opacity: 0.6'>329,997</i></td><td>-112580.359375 </td><td>-1.9306227597361942</td><td>1182.436279296875 </td><td>115.58557891845703 </td><td>374845        </td><td>8.46711349 </td><td>-38.2765236</td><td>-127.541473</td><td>-1.14041007 </td><td>-8.4957695  </td><td>2.25749826  </td></tr>\n",
       "<tr><td><i style='opacity: 0.6'>329,998</i></td><td>-74862.90625   </td><td>-1.225019818838568 </td><td>1324.5926513671875</td><td>1057.017333984375  </td><td>425745        </td><td>110.221558 </td><td>-31.3925591</td><td>86.2726822 </td><td>-14.2985935 </td><td>-5.51750422 </td><td>-8.65472317 </td></tr>\n",
       "<tr><td><i style='opacity: 0.6'>329,999</i></td><td>-95361.765625  </td><td>-2.5689636894079477</td><td>351.0955505371094 </td><td>-309.81439208984375</td><td>289364        </td><td>-2.10541415</td><td>-27.6108856</td><td>3.80799961 </td><td>10.5450506  </td><td>-8.86106777 </td><td>-4.65835428 </td></tr>\n",
       "</tbody>\n",
       "</table>"
      ],
      "text/plain": [
       "#        E                FeH                  L                   Lz                   random_index    vx           vy           vz           x             y             z\n",
       "0        -121238.171875   -2.309227609164518   831.0799560546875   -336.426513671875    1511648         53.276722    288.386047   -95.2649078  -0.777470767  2.10626292    1.93743467\n",
       "1        -100819.9140625  -1.788735491591229   1435.1839599609375  -828.7567749023438   2728665         252.810791   -69.9498444  -56.3121033  3.77427316    2.23387194    3.76209331\n",
       "2        -100559.9609375  -0.7618109022478798  1039.2989501953125  920.802490234375     1202632         96.276474    226.440201   -34.7527161  1.3757627     -6.3283844    2.63250017\n",
       "3        -70174.8515625   -1.5208778422936413  2441.724853515625   1183.5899658203125   1020502         204.968842   -205.679016  -58.9777031  -7.06737804   1.31737781    -6.10543537\n",
       "4        -144138.75       -2.655341358427361   374.8164367675781   -314.5353088378906   3154816         -311.742371  -238.41217   186.824127   0.243441463   -0.822781682  -0.206593871\n",
       "...      ...              ...                  ...                 ...                  ...             ...          ...          ...          ...           ...           ...\n",
       "329,995  -119687.3203125  -1.6499842518381402  746.8833618164062   -508.96484375        1919483         107.432999   -2.13771296  17.5130272   3.76883793    4.66251659    -4.42904139\n",
       "329,996  -68933.8046875   -1.4336036247720836  2395.633056640625   1275.490234375       1064141         32.0         108.089264   179.060638   9.17409325    -8.87091351   -8.61707687\n",
       "329,997  -112580.359375   -1.9306227597361942  1182.436279296875   115.58557891845703   374845          8.46711349   -38.2765236  -127.541473  -1.14041007   -8.4957695    2.25749826\n",
       "329,998  -74862.90625     -1.225019818838568   1324.5926513671875  1057.017333984375    425745          110.221558   -31.3925591  86.2726822   -14.2985935   -5.51750422   -8.65472317\n",
       "329,999  -95361.765625    -2.5689636894079477  351.0955505371094   -309.81439208984375  289364          -2.10541415  -27.6108856  3.80799961   10.5450506    -8.86106777   -4.65835428"
      ]
     },
     "execution_count": 4,
     "metadata": {},
     "output_type": "execute_result"
    }
   ],
   "source": [
    "demo1"
   ]
  },
  {
   "cell_type": "code",
   "execution_count": 5,
   "metadata": {
    "ExecuteTime": {
     "end_time": "2019-12-06T13:46:22.763638Z",
     "start_time": "2019-12-06T13:46:21.567247Z"
    }
   },
   "outputs": [
    {
     "data": {
      "text/html": [
       "<div>\n",
       "<style scoped>\n",
       "    .dataframe tbody tr th:only-of-type {\n",
       "        vertical-align: middle;\n",
       "    }\n",
       "\n",
       "    .dataframe tbody tr th {\n",
       "        vertical-align: top;\n",
       "    }\n",
       "\n",
       "    .dataframe thead th {\n",
       "        text-align: right;\n",
       "    }\n",
       "</style>\n",
       "<table border=\"1\" class=\"dataframe\">\n",
       "  <thead>\n",
       "    <tr style=\"text-align: right;\">\n",
       "      <th></th>\n",
       "      <th>E</th>\n",
       "      <th>FeH</th>\n",
       "      <th>L</th>\n",
       "      <th>Lz</th>\n",
       "      <th>random_index</th>\n",
       "      <th>vx</th>\n",
       "      <th>vy</th>\n",
       "      <th>vz</th>\n",
       "      <th>x</th>\n",
       "      <th>y</th>\n",
       "      <th>z</th>\n",
       "    </tr>\n",
       "  </thead>\n",
       "  <tbody>\n",
       "    <tr>\n",
       "      <th>dtype</th>\n",
       "      <td>float64</td>\n",
       "      <td>float64</td>\n",
       "      <td>float64</td>\n",
       "      <td>float64</td>\n",
       "      <td>int64</td>\n",
       "      <td>float64</td>\n",
       "      <td>float64</td>\n",
       "      <td>float64</td>\n",
       "      <td>float64</td>\n",
       "      <td>float64</td>\n",
       "      <td>float64</td>\n",
       "    </tr>\n",
       "    <tr>\n",
       "      <th>count</th>\n",
       "      <td>330000</td>\n",
       "      <td>330000</td>\n",
       "      <td>330000</td>\n",
       "      <td>330000</td>\n",
       "      <td>330000</td>\n",
       "      <td>330000</td>\n",
       "      <td>330000</td>\n",
       "      <td>330000</td>\n",
       "      <td>330000</td>\n",
       "      <td>330000</td>\n",
       "      <td>330000</td>\n",
       "    </tr>\n",
       "    <tr>\n",
       "      <th>NA</th>\n",
       "      <td>0</td>\n",
       "      <td>0</td>\n",
       "      <td>0</td>\n",
       "      <td>0</td>\n",
       "      <td>0</td>\n",
       "      <td>0</td>\n",
       "      <td>0</td>\n",
       "      <td>0</td>\n",
       "      <td>0</td>\n",
       "      <td>0</td>\n",
       "      <td>0</td>\n",
       "    </tr>\n",
       "    <tr>\n",
       "      <th>mean</th>\n",
       "      <td>-106610.49988610914</td>\n",
       "      <td>-1.6934730008384746</td>\n",
       "      <td>921.3784317993337</td>\n",
       "      <td>-19.039547138733965</td>\n",
       "      <td>1646241.474939394</td>\n",
       "      <td>-0.08480261751936627</td>\n",
       "      <td>2.1091601712652004</td>\n",
       "      <td>1.5943218597493665</td>\n",
       "      <td>-0.06713149126400597</td>\n",
       "      <td>-0.05358986745671381</td>\n",
       "      <td>0.016958244210975013</td>\n",
       "    </tr>\n",
       "    <tr>\n",
       "      <th>std</th>\n",
       "      <td>31669.4</td>\n",
       "      <td>0.549376</td>\n",
       "      <td>640.898</td>\n",
       "      <td>742.096</td>\n",
       "      <td>952202</td>\n",
       "      <td>135.461</td>\n",
       "      <td>139.437</td>\n",
       "      <td>110.318</td>\n",
       "      <td>7.31746</td>\n",
       "      <td>7.78605</td>\n",
       "      <td>5.05521</td>\n",
       "    </tr>\n",
       "    <tr>\n",
       "      <th>min</th>\n",
       "      <td>-240538</td>\n",
       "      <td>-3.20803</td>\n",
       "      <td>18.3504</td>\n",
       "      <td>-2900.54</td>\n",
       "      <td>0</td>\n",
       "      <td>-585.401</td>\n",
       "      <td>-590.012</td>\n",
       "      <td>-520.235</td>\n",
       "      <td>-128.294</td>\n",
       "      <td>-71.5524</td>\n",
       "      <td>-44.3342</td>\n",
       "    </tr>\n",
       "    <tr>\n",
       "      <th>max</th>\n",
       "      <td>44446.8</td>\n",
       "      <td>-0.0173251</td>\n",
       "      <td>3743.66</td>\n",
       "      <td>1789.86</td>\n",
       "      <td>3299975</td>\n",
       "      <td>636.42</td>\n",
       "      <td>619.158</td>\n",
       "      <td>523.647</td>\n",
       "      <td>271.366</td>\n",
       "      <td>146.466</td>\n",
       "      <td>50.7185</td>\n",
       "    </tr>\n",
       "  </tbody>\n",
       "</table>\n",
       "</div>"
      ],
      "text/plain": [
       "                         E                  FeH                  L  \\\n",
       "dtype              float64              float64            float64   \n",
       "count               330000               330000             330000   \n",
       "NA                       0                    0                  0   \n",
       "mean   -106610.49988610914  -1.6934730008384746  921.3784317993337   \n",
       "std                31669.4             0.549376            640.898   \n",
       "min                -240538             -3.20803            18.3504   \n",
       "max                44446.8           -0.0173251            3743.66   \n",
       "\n",
       "                        Lz       random_index                    vx  \\\n",
       "dtype              float64              int64               float64   \n",
       "count               330000             330000                330000   \n",
       "NA                       0                  0                     0   \n",
       "mean   -19.039547138733965  1646241.474939394  -0.08480261751936627   \n",
       "std                742.096             952202               135.461   \n",
       "min               -2900.54                  0              -585.401   \n",
       "max                1789.86            3299975                636.42   \n",
       "\n",
       "                       vy                  vz                     x  \\\n",
       "dtype             float64             float64               float64   \n",
       "count              330000              330000                330000   \n",
       "NA                      0                   0                     0   \n",
       "mean   2.1091601712652004  1.5943218597493665  -0.06713149126400597   \n",
       "std               139.437             110.318               7.31746   \n",
       "min              -590.012            -520.235              -128.294   \n",
       "max               619.158             523.647               271.366   \n",
       "\n",
       "                          y                     z  \n",
       "dtype               float64               float64  \n",
       "count                330000                330000  \n",
       "NA                        0                     0  \n",
       "mean   -0.05358986745671381  0.016958244210975013  \n",
       "std                 7.78605               5.05521  \n",
       "min                -71.5524              -44.3342  \n",
       "max                 146.466               50.7185  "
      ]
     },
     "execution_count": 5,
     "metadata": {},
     "output_type": "execute_result"
    }
   ],
   "source": [
    "demo1.describe()"
   ]
  },
  {
   "cell_type": "markdown",
   "metadata": {},
   "source": [
    "## Vaex permite exportar los dataframes directamente a Pandas o a formatos como arrow"
   ]
  },
  {
   "cell_type": "code",
   "execution_count": 6,
   "metadata": {
    "ExecuteTime": {
     "end_time": "2019-12-06T13:46:42.480690Z",
     "start_time": "2019-12-06T13:46:42.471167Z"
    }
   },
   "outputs": [],
   "source": [
    "pandas_df = demo1[:100].to_pandas_df()"
   ]
  },
  {
   "cell_type": "code",
   "execution_count": 7,
   "metadata": {
    "ExecuteTime": {
     "end_time": "2019-12-06T13:46:45.873188Z",
     "start_time": "2019-12-06T13:46:45.817320Z"
    }
   },
   "outputs": [
    {
     "data": {
      "text/html": [
       "<div>\n",
       "<style scoped>\n",
       "    .dataframe tbody tr th:only-of-type {\n",
       "        vertical-align: middle;\n",
       "    }\n",
       "\n",
       "    .dataframe tbody tr th {\n",
       "        vertical-align: top;\n",
       "    }\n",
       "\n",
       "    .dataframe thead th {\n",
       "        text-align: right;\n",
       "    }\n",
       "</style>\n",
       "<table border=\"1\" class=\"dataframe\">\n",
       "  <thead>\n",
       "    <tr style=\"text-align: right;\">\n",
       "      <th></th>\n",
       "      <th>E</th>\n",
       "      <th>FeH</th>\n",
       "      <th>L</th>\n",
       "      <th>Lz</th>\n",
       "      <th>random_index</th>\n",
       "      <th>vx</th>\n",
       "      <th>vy</th>\n",
       "      <th>vz</th>\n",
       "      <th>x</th>\n",
       "      <th>y</th>\n",
       "      <th>z</th>\n",
       "    </tr>\n",
       "  </thead>\n",
       "  <tbody>\n",
       "    <tr>\n",
       "      <th>0</th>\n",
       "      <td>-121238.171875</td>\n",
       "      <td>-2.309228</td>\n",
       "      <td>831.079956</td>\n",
       "      <td>-336.426514</td>\n",
       "      <td>1511648</td>\n",
       "      <td>53.276722</td>\n",
       "      <td>288.386047</td>\n",
       "      <td>-95.264908</td>\n",
       "      <td>-0.777471</td>\n",
       "      <td>2.106263</td>\n",
       "      <td>1.937435</td>\n",
       "    </tr>\n",
       "    <tr>\n",
       "      <th>1</th>\n",
       "      <td>-100819.914062</td>\n",
       "      <td>-1.788735</td>\n",
       "      <td>1435.183960</td>\n",
       "      <td>-828.756775</td>\n",
       "      <td>2728665</td>\n",
       "      <td>252.810791</td>\n",
       "      <td>-69.949844</td>\n",
       "      <td>-56.312103</td>\n",
       "      <td>3.774273</td>\n",
       "      <td>2.233872</td>\n",
       "      <td>3.762093</td>\n",
       "    </tr>\n",
       "    <tr>\n",
       "      <th>2</th>\n",
       "      <td>-100559.960938</td>\n",
       "      <td>-0.761811</td>\n",
       "      <td>1039.298950</td>\n",
       "      <td>920.802490</td>\n",
       "      <td>1202632</td>\n",
       "      <td>96.276474</td>\n",
       "      <td>226.440201</td>\n",
       "      <td>-34.752716</td>\n",
       "      <td>1.375763</td>\n",
       "      <td>-6.328384</td>\n",
       "      <td>2.632500</td>\n",
       "    </tr>\n",
       "    <tr>\n",
       "      <th>3</th>\n",
       "      <td>-70174.851562</td>\n",
       "      <td>-1.520878</td>\n",
       "      <td>2441.724854</td>\n",
       "      <td>1183.589966</td>\n",
       "      <td>1020502</td>\n",
       "      <td>204.968842</td>\n",
       "      <td>-205.679016</td>\n",
       "      <td>-58.977703</td>\n",
       "      <td>-7.067378</td>\n",
       "      <td>1.317378</td>\n",
       "      <td>-6.105435</td>\n",
       "    </tr>\n",
       "    <tr>\n",
       "      <th>4</th>\n",
       "      <td>-144138.750000</td>\n",
       "      <td>-2.655341</td>\n",
       "      <td>374.816437</td>\n",
       "      <td>-314.535309</td>\n",
       "      <td>3154816</td>\n",
       "      <td>-311.742371</td>\n",
       "      <td>-238.412170</td>\n",
       "      <td>186.824127</td>\n",
       "      <td>0.243441</td>\n",
       "      <td>-0.822782</td>\n",
       "      <td>-0.206594</td>\n",
       "    </tr>\n",
       "    <tr>\n",
       "      <th>...</th>\n",
       "      <td>...</td>\n",
       "      <td>...</td>\n",
       "      <td>...</td>\n",
       "      <td>...</td>\n",
       "      <td>...</td>\n",
       "      <td>...</td>\n",
       "      <td>...</td>\n",
       "      <td>...</td>\n",
       "      <td>...</td>\n",
       "      <td>...</td>\n",
       "      <td>...</td>\n",
       "    </tr>\n",
       "    <tr>\n",
       "      <th>95</th>\n",
       "      <td>-99405.687500</td>\n",
       "      <td>-1.844863</td>\n",
       "      <td>1140.836914</td>\n",
       "      <td>-688.859558</td>\n",
       "      <td>2794373</td>\n",
       "      <td>-102.623138</td>\n",
       "      <td>53.612511</td>\n",
       "      <td>7.555185</td>\n",
       "      <td>-7.804338</td>\n",
       "      <td>-2.635365</td>\n",
       "      <td>-7.472844</td>\n",
       "    </tr>\n",
       "    <tr>\n",
       "      <th>96</th>\n",
       "      <td>-154362.171875</td>\n",
       "      <td>-1.867531</td>\n",
       "      <td>169.959824</td>\n",
       "      <td>124.641342</td>\n",
       "      <td>1344431</td>\n",
       "      <td>30.475338</td>\n",
       "      <td>47.794190</td>\n",
       "      <td>-49.444252</td>\n",
       "      <td>3.372185</td>\n",
       "      <td>1.198657</td>\n",
       "      <td>-1.772952</td>\n",
       "    </tr>\n",
       "    <tr>\n",
       "      <th>97</th>\n",
       "      <td>-170106.250000</td>\n",
       "      <td>-1.883617</td>\n",
       "      <td>246.862183</td>\n",
       "      <td>164.523392</td>\n",
       "      <td>1330318</td>\n",
       "      <td>191.299561</td>\n",
       "      <td>362.805359</td>\n",
       "      <td>-11.236567</td>\n",
       "      <td>0.470685</td>\n",
       "      <td>0.032639</td>\n",
       "      <td>0.441789</td>\n",
       "    </tr>\n",
       "    <tr>\n",
       "      <th>98</th>\n",
       "      <td>-101061.445312</td>\n",
       "      <td>-1.867424</td>\n",
       "      <td>465.265564</td>\n",
       "      <td>238.525650</td>\n",
       "      <td>701908</td>\n",
       "      <td>25.192654</td>\n",
       "      <td>-4.154729</td>\n",
       "      <td>30.725702</td>\n",
       "      <td>8.090986</td>\n",
       "      <td>-10.802415</td>\n",
       "      <td>0.840847</td>\n",
       "    </tr>\n",
       "    <tr>\n",
       "      <th>99</th>\n",
       "      <td>-69885.210938</td>\n",
       "      <td>-1.463340</td>\n",
       "      <td>2732.392090</td>\n",
       "      <td>1234.886719</td>\n",
       "      <td>1063620</td>\n",
       "      <td>-8.717464</td>\n",
       "      <td>-84.257919</td>\n",
       "      <td>-111.787590</td>\n",
       "      <td>-13.087051</td>\n",
       "      <td>15.164844</td>\n",
       "      <td>-3.268117</td>\n",
       "    </tr>\n",
       "  </tbody>\n",
       "</table>\n",
       "<p>100 rows × 11 columns</p>\n",
       "</div>"
      ],
      "text/plain": [
       "                E       FeH            L           Lz  random_index  \\\n",
       "0  -121238.171875 -2.309228   831.079956  -336.426514       1511648   \n",
       "1  -100819.914062 -1.788735  1435.183960  -828.756775       2728665   \n",
       "2  -100559.960938 -0.761811  1039.298950   920.802490       1202632   \n",
       "3   -70174.851562 -1.520878  2441.724854  1183.589966       1020502   \n",
       "4  -144138.750000 -2.655341   374.816437  -314.535309       3154816   \n",
       "..            ...       ...          ...          ...           ...   \n",
       "95  -99405.687500 -1.844863  1140.836914  -688.859558       2794373   \n",
       "96 -154362.171875 -1.867531   169.959824   124.641342       1344431   \n",
       "97 -170106.250000 -1.883617   246.862183   164.523392       1330318   \n",
       "98 -101061.445312 -1.867424   465.265564   238.525650        701908   \n",
       "99  -69885.210938 -1.463340  2732.392090  1234.886719       1063620   \n",
       "\n",
       "            vx          vy          vz          x          y         z  \n",
       "0    53.276722  288.386047  -95.264908  -0.777471   2.106263  1.937435  \n",
       "1   252.810791  -69.949844  -56.312103   3.774273   2.233872  3.762093  \n",
       "2    96.276474  226.440201  -34.752716   1.375763  -6.328384  2.632500  \n",
       "3   204.968842 -205.679016  -58.977703  -7.067378   1.317378 -6.105435  \n",
       "4  -311.742371 -238.412170  186.824127   0.243441  -0.822782 -0.206594  \n",
       "..         ...         ...         ...        ...        ...       ...  \n",
       "95 -102.623138   53.612511    7.555185  -7.804338  -2.635365 -7.472844  \n",
       "96   30.475338   47.794190  -49.444252   3.372185   1.198657 -1.772952  \n",
       "97  191.299561  362.805359  -11.236567   0.470685   0.032639  0.441789  \n",
       "98   25.192654   -4.154729   30.725702   8.090986 -10.802415  0.840847  \n",
       "99   -8.717464  -84.257919 -111.787590 -13.087051  15.164844 -3.268117  \n",
       "\n",
       "[100 rows x 11 columns]"
      ]
     },
     "execution_count": 7,
     "metadata": {},
     "output_type": "execute_result"
    }
   ],
   "source": [
    "pandas_df"
   ]
  },
  {
   "cell_type": "code",
   "execution_count": 8,
   "metadata": {
    "ExecuteTime": {
     "end_time": "2019-12-06T13:46:53.558177Z",
     "start_time": "2019-12-06T13:46:53.466009Z"
    }
   },
   "outputs": [],
   "source": [
    "arrow_table = demo1[:100].to_arrow_table()"
   ]
  },
  {
   "cell_type": "code",
   "execution_count": 9,
   "metadata": {
    "ExecuteTime": {
     "end_time": "2019-12-06T13:46:57.853961Z",
     "start_time": "2019-12-06T13:46:57.842412Z"
    }
   },
   "outputs": [
    {
     "data": {
      "text/plain": [
       "pyarrow.Table\n",
       "E: double\n",
       "FeH: double\n",
       "L: double\n",
       "Lz: double\n",
       "random_index: int64\n",
       "vx: double\n",
       "vy: double\n",
       "vz: double\n",
       "x: double\n",
       "y: double\n",
       "z: double"
      ]
     },
     "execution_count": 9,
     "metadata": {},
     "output_type": "execute_result"
    }
   ],
   "source": [
    "arrow_table"
   ]
  },
  {
   "cell_type": "markdown",
   "metadata": {},
   "source": [
    "## Probemos con un dataset un poco más grande \n",
    "#### Data del los viajes realizados en Taxi en la ciudad de Nueva York en el 2015 , el archivo de 23 GB en formato .hdf5\n",
    "####    https://drive.google.com/file/d/0B8gjQokMGa4nTXc0Z3QyYjZBMWc/view?usp=sharing\n",
    "#### La data completa se puede descarga en CSV (+/- 200GB) desde:\n",
    "####    https://www1.nyc.gov/site/tlc/about/tlc-trip-record-data.page"
   ]
  },
  {
   "cell_type": "code",
   "execution_count": 36,
   "metadata": {},
   "outputs": [],
   "source": [
    "data = 'nyc_taxi2015.hdf5'"
   ]
  },
  {
   "cell_type": "code",
   "execution_count": 37,
   "metadata": {},
   "outputs": [],
   "source": [
    "df = vaex.open(data)"
   ]
  },
  {
   "cell_type": "code",
   "execution_count": 38,
   "metadata": {},
   "outputs": [
    {
     "data": {
      "text/plain": [
       "array(146112989)"
      ]
     },
     "execution_count": 38,
     "metadata": {},
     "output_type": "execute_result"
    }
   ],
   "source": [
    "df.count()"
   ]
  },
  {
   "cell_type": "code",
   "execution_count": 32,
   "metadata": {},
   "outputs": [],
   "source": [
    "## Columnas Virtuales\n",
    "# Un Característica muy interesante la la capacidad de tener columnas virtuales que se calculará sobre la marcha\n",
    "# Esto permite ahorrar mucha memoria cuando los dataset son muy grandes"
   ]
  },
  {
   "cell_type": "code",
   "execution_count": null,
   "metadata": {},
   "outputs": [],
   "source": []
  },
  {
   "cell_type": "code",
   "execution_count": null,
   "metadata": {},
   "outputs": [],
   "source": []
  },
  {
   "cell_type": "code",
   "execution_count": null,
   "metadata": {},
   "outputs": [],
   "source": []
  },
  {
   "cell_type": "code",
   "execution_count": null,
   "metadata": {},
   "outputs": [],
   "source": []
  }
 ],
 "metadata": {
  "celltoolbar": "Raw Cell Format",
  "kernelspec": {
   "display_name": "Python 3",
   "language": "python",
   "name": "python3"
  },
  "language_info": {
   "codemirror_mode": {
    "name": "ipython",
    "version": 3
   },
   "file_extension": ".py",
   "mimetype": "text/x-python",
   "name": "python",
   "nbconvert_exporter": "python",
   "pygments_lexer": "ipython3",
   "version": "3.7.2"
  }
 },
 "nbformat": 4,
 "nbformat_minor": 2
}
